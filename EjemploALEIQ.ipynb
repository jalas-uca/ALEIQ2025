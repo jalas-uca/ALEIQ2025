{
  "nbformat": 4,
  "nbformat_minor": 0,
  "metadata": {
    "colab": {
      "provenance": []
    },
    "kernelspec": {
      "name": "python3",
      "display_name": "Python 3"
    },
    "language_info": {
      "name": "python"
    }
  },
  "cells": [
    {
      "cell_type": "code",
      "execution_count": 1,
      "metadata": {
        "id": "WKhe6ouRp2_u"
      },
      "outputs": [],
      "source": [
        "import itertools\n",
        "import numpy as np\n",
        "import matplotlib.pyplot as plt\n",
        "from matplotlib.ticker import NullFormatter\n",
        "import pandas as pd\n",
        "import numpy as np\n",
        "import matplotlib.ticker as ticker\n",
        "from sklearn import preprocessing\n",
        "%matplotlib inline"
      ]
    },
    {
      "cell_type": "code",
      "source": [
        "df = pd.read_csv('PRUEBA 4.csv')\n",
        "df . head( )"
      ],
      "metadata": {
        "id": "WjOGuiR5qpeK"
      },
      "execution_count": null,
      "outputs": []
    },
    {
      "cell_type": "code",
      "source": [
        "X = df [ [ 'PM', 'Temperatura', 'FP'] ] .values #.astype( float )\n",
        "y = df['Inflamabilidad']. values\n",
        "X = preprocessing.StandardScaler( ).fit(X).transform(X.astype( float ))"
      ],
      "metadata": {
        "id": "kBjw-d74q8I3"
      },
      "execution_count": 8,
      "outputs": []
    },
    {
      "cell_type": "code",
      "source": [
        "from sklearn.model_selection import train_test_split\n",
        "X_train, X_test, y_train, y_test = train_test_split( X, y, test_size=0.2, random_state=4)\n",
        "\n",
        "from sklearn.neighbors import KNeighborsClassifier\n",
        "from sklearn import metrics\n",
        "\n",
        "k=1\n",
        "neigh = KNeighborsClassifier(n_neighbors = i).fit(X_train,y_train)\n",
        "yhat = neigh.predict(X_test)\n",
        "p=metrics.accuracy_score(y_test, yhat)\n",
        "print(p)"
      ],
      "metadata": {
        "colab": {
          "base_uri": "https://localhost:8080/"
        },
        "id": "Wowfp6z3rIRH",
        "outputId": "0c4be9b7-45f5-4199-9ed7-3ddd7e94ef4e"
      },
      "execution_count": 15,
      "outputs": [
        {
          "output_type": "stream",
          "name": "stdout",
          "text": [
            "0.7954545454545454\n"
          ]
        }
      ]
    },
    {
      "cell_type": "markdown",
      "source": [],
      "metadata": {
        "id": "JNnKBDVxqM5x"
      }
    }
  ]
}